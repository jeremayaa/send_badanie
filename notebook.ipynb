{
 "cells": [
  {
   "cell_type": "markdown",
   "metadata": {},
   "source": [
    "In terminal run following commands\n",
    "\n",
    "django-admin startproject csv_writter\n",
    "cd csv_writter\n",
    "python manage.py startapp core\n",
    "code ."
   ]
  },
  {
   "cell_type": "code",
   "execution_count": null,
   "metadata": {
    "vscode": {
     "languageId": "plaintext"
    }
   },
   "outputs": [],
   "source": [
    "add \"'core',\" to INSTALLED_APPS in settings.py"
   ]
  },
  {
   "cell_type": "markdown",
   "metadata": {},
   "source": [
    "Add urls.py in core directory\n",
    "\n",
    "from django.urls import path\n",
    "from . import views\n",
    "\n",
    "urlpatterns = [\n",
    "    path('', views.home, name='home'),\n",
    "]"
   ]
  },
  {
   "cell_type": "code",
   "execution_count": null,
   "metadata": {
    "vscode": {
     "languageId": "plaintext"
    }
   },
   "outputs": [],
   "source": [
    "Update file urls.py in csv_writer directory, by adding:\n",
    "\n",
    "    \"path('', include('core.urls')),\"\n",
    "\n",
    "to urlpatterns (from django.urls import include)"
   ]
  },
  {
   "cell_type": "code",
   "execution_count": null,
   "metadata": {
    "vscode": {
     "languageId": "plaintext"
    }
   },
   "outputs": [],
   "source": [
    "Add simple view in views.py\n",
    "\n",
    "def home(request):\n",
    "    return render(request, 'core/home.html')"
   ]
  },
  {
   "cell_type": "code",
   "execution_count": null,
   "metadata": {
    "vscode": {
     "languageId": "plaintext"
    }
   },
   "outputs": [],
   "source": [
    "Add templates/core folder to core directory and make home.html with simple text:\n",
    "\n",
    "<!-- core/templates/core/home.html -->\n",
    "<!DOCTYPE html>\n",
    "<html>\n",
    "<head>\n",
    "    <title>medapp - Home</title>\n",
    "</head>\n",
    "<body>\n",
    "    <h1>Welcome to MedApp</h1>\n",
    "    <p>This will be a patient/sample metadata tracker.</p>\n",
    "</body>\n",
    "</html>"
   ]
  },
  {
   "cell_type": "code",
   "execution_count": null,
   "metadata": {
    "vscode": {
     "languageId": "plaintext"
    }
   },
   "outputs": [],
   "source": [
    "Uzupełniłem pozostałe pliki:\n",
    "\n",
    "SEND_BADANIE/\n",
    "├── manage.py\n",
    "├── db.sqlite3\n",
    "├── send_badaninie/        # moduł projektu\n",
    "│   ├── __init__.py\n",
    "│   ├── settings.py\n",
    "│   ├── urls.py\n",
    "│   ├── asgi.py\n",
    "│   └── wsgi.py\n",
    "└── core/                  # nasza aplikacja „core”\n",
    "    ├── __init__.py\n",
    "    ├── admin.py\n",
    "    ├── apps.py\n",
    "    ├── forms.py          # formularze (ModelForm dla pacjentów, badań, analiz)\n",
    "    ├── models.py         # definicje Lekarz, Pacjent, Tag, Badanie, Analiza\n",
    "    ├── urls.py           # ścieżki do widoków core\n",
    "    ├── views.py          # widoki funkcjonalne lub oparte na klasach (CBV)\n",
    "    ├── templates/\n",
    "    │   └── core/\n",
    "    │       ├── base.html       # wspólny layout (menu, login/logout)\n",
    "    │       ├── login.html      # logowanie\n",
    "    │       ├── pacjent_list.html\n",
    "    │       ├── pacjent_form.html\n",
    "    │       ├── badanie_list.html\n",
    "    │       ├── badanie_form.html\n",
    "    │       ├── badanie_detail.html\n",
    "    │       ├── analiza_form.html\n",
    "    │       └── analiza_detail.html\n",
    "    └── static/\n",
    "        └── core/\n",
    "            └── css/, js/, img/"
   ]
  },
  {
   "cell_type": "code",
   "execution_count": null,
   "metadata": {
    "vscode": {
     "languageId": "plaintext"
    }
   },
   "outputs": [],
   "source": [
    "Dodaje ten kod do models:\n",
    "\n",
    "class Lekarz(models.Model):\n",
    "    user = models.OneToOneField(User, on_delete=models.CASCADE)  # wykorzystujemy auth\n",
    "    opis = models.TextField(blank=True)\n",
    "\n",
    "class Pacjent(models.Model):\n",
    "    lekarz = models.ForeignKey(Lekarz, on_delete=models.CASCADE, related_name='pacjenci')\n",
    "    pesel = models.CharField(max_length=11, unique=True)\n",
    "    imie = models.CharField(max_length=100)\n",
    "    nazwisko = models.CharField(max_length=100)\n",
    "    data_urodzenia = models.DateField()\n",
    "    opis = models.TextField(blank=True)\n",
    "\n",
    "class Tag(models.Model):\n",
    "    nazwa = models.CharField(max_length=50, unique=True)\n",
    "    opis = models.TextField(blank=True)\n",
    "\n",
    "class Badanie(models.Model):\n",
    "    pacjent = models.ForeignKey(Pacjent, on_delete=models.CASCADE, related_name='badania')\n",
    "    tagi = models.ManyToManyField(Tag, related_name='badania', blank=True)\n",
    "    zdjecie = models.ImageField(upload_to='badania/')\n",
    "    opis = models.TextField(blank=True)\n",
    "    data = models.DateTimeField(auto_now_add=True)\n",
    "\n",
    "class Analiza(models.Model):\n",
    "    badanie = models.ForeignKey(Badanie, on_delete=models.CASCADE, related_name='analizy')\n",
    "    nazwa = models.CharField(max_length=100)\n",
    "    zdjecie = models.ImageField(upload_to='analizy/')\n",
    "    opis = models.TextField(blank=True)\n",
    "    data = models.DateTimeField(auto_now_add=True)"
   ]
  }
 ],
 "metadata": {
  "language_info": {
   "name": "python"
  }
 },
 "nbformat": 4,
 "nbformat_minor": 2
}
